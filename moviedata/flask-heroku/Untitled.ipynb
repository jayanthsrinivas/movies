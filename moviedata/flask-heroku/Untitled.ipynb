{
 "cells": [
  {
   "cell_type": "code",
   "execution_count": 8,
   "metadata": {},
   "outputs": [
    {
     "name": "stdout",
     "output_type": "stream",
     "text": [
      "Collecting uwsgi\n",
      "  Downloading https://files.pythonhosted.org/packages/e7/1e/3dcca007f974fe4eb369bf1b8629d5e342bb3055e2001b2e5340aaefae7a/uwsgi-2.0.18.tar.gz (801kB)\n"
     ]
    },
    {
     "name": "stderr",
     "output_type": "stream",
     "text": [
      "    ERROR: Command errored out with exit status 1:\n",
      "     command: 'c:\\users\\jayanth\\anaconda3\\envs\\tenso\\python.exe' -c 'import sys, setuptools, tokenize; sys.argv[0] = '\"'\"'C:\\\\Users\\\\jayanth\\\\AppData\\\\Local\\\\Temp\\\\pip-install-batg4a00\\\\uwsgi\\\\setup.py'\"'\"'; __file__='\"'\"'C:\\\\Users\\\\jayanth\\\\AppData\\\\Local\\\\Temp\\\\pip-install-batg4a00\\\\uwsgi\\\\setup.py'\"'\"';f=getattr(tokenize, '\"'\"'open'\"'\"', open)(__file__);code=f.read().replace('\"'\"'\\r\\n'\"'\"', '\"'\"'\\n'\"'\"');f.close();exec(compile(code, __file__, '\"'\"'exec'\"'\"'))' egg_info --egg-base pip-egg-info\n",
      "         cwd: C:\\Users\\jayanth\\AppData\\Local\\Temp\\pip-install-batg4a00\\uwsgi\\\n",
      "    Complete output (7 lines):\n",
      "    Traceback (most recent call last):\n",
      "      File \"<string>\", line 1, in <module>\n",
      "      File \"C:\\Users\\jayanth\\AppData\\Local\\Temp\\pip-install-batg4a00\\uwsgi\\setup.py\", line 3, in <module>\n",
      "        import uwsgiconfig as uc\n",
      "      File \"C:\\Users\\jayanth\\AppData\\Local\\Temp\\pip-install-batg4a00\\uwsgi\\uwsgiconfig.py\", line 8, in <module>\n",
      "        uwsgi_os = os.uname()[0]\n",
      "    AttributeError: module 'os' has no attribute 'uname'\n",
      "    ----------------------------------------\n",
      "ERROR: Command errored out with exit status 1: python setup.py egg_info Check the logs for full command output.\n"
     ]
    }
   ],
   "source": [
    "#!pip install flask\n",
    "#!pip install flask_restful\n",
    "#!pip install flask_sqlalchemy\n",
    "!pip install uwsgi"
   ]
  },
  {
   "cell_type": "code",
   "execution_count": 7,
   "metadata": {},
   "outputs": [],
   "source": [
    "import flask\n",
    "import flask_restful\n",
    "import flask_sqlalchemy"
   ]
  },
  {
   "cell_type": "code",
   "execution_count": 5,
   "metadata": {},
   "outputs": [],
   "source": []
  },
  {
   "cell_type": "code",
   "execution_count": 6,
   "metadata": {},
   "outputs": [],
   "source": []
  },
  {
   "cell_type": "code",
   "execution_count": null,
   "metadata": {},
   "outputs": [],
   "source": []
  }
 ],
 "metadata": {
  "kernelspec": {
   "display_name": "Python 3",
   "language": "python",
   "name": "python3"
  },
  "language_info": {
   "codemirror_mode": {
    "name": "ipython",
    "version": 3
   },
   "file_extension": ".py",
   "mimetype": "text/x-python",
   "name": "python",
   "nbconvert_exporter": "python",
   "pygments_lexer": "ipython3",
   "version": "3.6.8"
  }
 },
 "nbformat": 4,
 "nbformat_minor": 2
}
